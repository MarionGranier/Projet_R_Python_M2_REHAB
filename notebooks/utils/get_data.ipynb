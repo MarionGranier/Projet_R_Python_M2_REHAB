{
 "cells": [
  {
   "cell_type": "code",
   "execution_count": 13,
   "metadata": {},
   "outputs": [],
   "source": [
    "# import the necessary packages\n",
    "import pandas as pd\n",
    "import os\n",
    "import shutil"
   ]
  },
  {
   "cell_type": "markdown",
   "metadata": {},
   "source": [
    "## Enter the month information"
   ]
  },
  {
   "cell_type": "code",
   "execution_count": 14,
   "metadata": {},
   "outputs": [],
   "source": [
    "# Number of the record (X in range of 1 to 6)\n",
    "month = \"2\""
   ]
  },
  {
   "cell_type": "code",
   "execution_count": null,
   "metadata": {},
   "outputs": [
    {
     "data": {
      "text/html": [
       "<div>\n",
       "<style scoped>\n",
       "    .dataframe tbody tr th:only-of-type {\n",
       "        vertical-align: middle;\n",
       "    }\n",
       "\n",
       "    .dataframe tbody tr th {\n",
       "        vertical-align: top;\n",
       "    }\n",
       "\n",
       "    .dataframe thead th {\n",
       "        text-align: right;\n",
       "    }\n",
       "</style>\n",
       "<table border=\"1\" class=\"dataframe\">\n",
       "  <thead>\n",
       "    <tr style=\"text-align: right;\">\n",
       "      <th></th>\n",
       "      <th>folder_name</th>\n",
       "      <th>is_patient</th>\n",
       "      <th>parent_folder</th>\n",
       "      <th>paretic_side</th>\n",
       "      <th>start_day</th>\n",
       "      <th>end_day</th>\n",
       "      <th>start_month</th>\n",
       "      <th>end_month</th>\n",
       "      <th>start_year</th>\n",
       "      <th>end_year</th>\n",
       "      <th>age</th>\n",
       "      <th>FMScore</th>\n",
       "      <th>freq</th>\n",
       "    </tr>\n",
       "  </thead>\n",
       "  <tbody>\n",
       "    <tr>\n",
       "      <th>0</th>\n",
       "      <td>C0P00_M2</td>\n",
       "      <td>True</td>\n",
       "      <td>data_actimetry</td>\n",
       "      <td>left</td>\n",
       "      <td>29</td>\n",
       "      <td>7</td>\n",
       "      <td>11</td>\n",
       "      <td>12</td>\n",
       "      <td>2024</td>\n",
       "      <td>2024</td>\n",
       "      <td>22</td>\n",
       "      <td>66</td>\n",
       "      <td>50</td>\n",
       "    </tr>\n",
       "  </tbody>\n",
       "</table>\n",
       "</div>"
      ],
      "text/plain": [
       "  folder_name  is_patient   parent_folder paretic_side  start_day  end_day  \\\n",
       "0    C0P00_M2        True  data_actimetry         left         29        7   \n",
       "\n",
       "   start_month  end_month  start_year  end_year  age  FMScore  freq  \n",
       "0           11         12        2024      2024   22       66    50  "
      ]
     },
     "execution_count": 17,
     "metadata": {},
     "output_type": "execute_result"
    }
   ],
   "source": [
    "# load the participants' information\n",
    "participants_info = pd.read_csv('../../data/participants_' + month + '.csv', sep=';')\n",
    "participants_info.head()"
   ]
  },
  {
   "cell_type": "code",
   "execution_count": 19,
   "metadata": {},
   "outputs": [
    {
     "data": {
      "text/plain": [
       "folder_name      object\n",
       "is_patient         bool\n",
       "parent_folder    object\n",
       "paretic_side     object\n",
       "start_day         int64\n",
       "end_day           int64\n",
       "start_month       int64\n",
       "end_month         int64\n",
       "start_year        int64\n",
       "end_year          int64\n",
       "age               int64\n",
       "FMScore           int64\n",
       "freq              int64\n",
       "dtype: object"
      ]
     },
     "execution_count": 19,
     "metadata": {},
     "output_type": "execute_result"
    }
   ],
   "source": [
    "# Verifier le type de données\n",
    "participants_info.dtypes"
   ]
  },
  {
   "cell_type": "code",
   "execution_count": 23,
   "metadata": {},
   "outputs": [
    {
     "data": {
      "text/plain": [
       "0    C0P00_M2\n",
       "Name: folder_name, dtype: object"
      ]
     },
     "execution_count": 23,
     "metadata": {},
     "output_type": "execute_result"
    }
   ],
   "source": [
    "participants_info['folder_name']"
   ]
  },
  {
   "cell_type": "code",
   "execution_count": 20,
   "metadata": {},
   "outputs": [],
   "source": [
    "# define the source and destination folders\n",
    "source_data = '../../data'\n",
    "destination_data = '../../data/data_actimetry_copy'\n",
    "\n",
    "# copy the files to the destination folder\n",
    "for i, row in participants_info.iterrows():\n",
    "    folder_name = row['folder_name']\n",
    "    parent_folder = row['parent_folder']\n",
    "    path = os.path.join(source_data, parent_folder, folder_name)\n",
    "    \n",
    "    # Check if the folder exists\n",
    "    if not os.path.exists(path):\n",
    "        print(f'{path} does not exist')\n",
    "        continue\n",
    "    else:\n",
    "        files = os.listdir(path)\n",
    "        \n",
    "        # Dictionary of the arms files\n",
    "        arms_file_names = {'left_ymd.csv': 'left.csv', 'right_ymd.csv' : 'right.csv'}\n",
    "\n",
    "        for arm_file_name in arms_file_names.keys():\n",
    "            if arm_file_name not in files:\n",
    "                print(f'{arm_file_name} not found in {path}')\n",
    "                continue\n",
    "            else:\n",
    "                dest_folder = os.path.join(destination_data, folder_name)\n",
    "\n",
    "                # Create the folder if it does not exist\n",
    "                os.makedirs(dest_folder, exist_ok=True)  \n",
    "\n",
    "                # Copy the file\n",
    "                shutil.copy(os.path.join(path, arm_file_name), os.path.join(dest_folder, arms_file_names[arm_file_name]))  \n",
    "\n",
    "                # macOS and Linux: \n",
    "                # os.system(f'mkdir -p {os.path.join(destination_data, folder_name)}')\n",
    "                # os.system(f'cp \"{os.path.join(path, arm_file_name)}\" \"{os.path.join(destination_data, folder_name, arms_file_names[arm_file_name])}\"')\n",
    "\n"
   ]
  }
 ],
 "metadata": {
  "kernelspec": {
   "display_name": "base",
   "language": "python",
   "name": "python3"
  },
  "language_info": {
   "codemirror_mode": {
    "name": "ipython",
    "version": 3
   },
   "file_extension": ".py",
   "mimetype": "text/x-python",
   "name": "python",
   "nbconvert_exporter": "python",
   "pygments_lexer": "ipython3",
   "version": "3.12.3"
  }
 },
 "nbformat": 4,
 "nbformat_minor": 2
}
