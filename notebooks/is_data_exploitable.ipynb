{
 "cells": [
  {
   "cell_type": "markdown",
   "metadata": {},
   "source": [
    "# Checking the usability of actimetric data\n",
    "Author: Marion Granier  \n",
    "Date: 2025-03-01  \n",
    "  \n",
    "This script uses the Actipy library to analyze accelerometer data.  \n",
    "Check prerequisites before running the script.  \n",
    "Source: https://github.com/OxWearables/actipy/blob/master/README.md"
   ]
  },
  {
   "cell_type": "code",
   "execution_count": null,
   "metadata": {},
   "outputs": [],
   "source": [
    "# Importing the required libraries\n",
    "import actipy\n",
    "import gzip\n",
    "import shutil\n",
    "import pandas as pd"
   ]
  },
  {
   "cell_type": "markdown",
   "metadata": {},
   "source": [
    "## For a single actimetric data file"
   ]
  },
  {
   "cell_type": "code",
   "execution_count": null,
   "metadata": {},
   "outputs": [],
   "source": [
    "# Data information\n",
    "patient_ID = \"C1P20\" # CXPXX\n",
    "month_ID = \"1\" # \"0\" = first month ; \"1\" = second month ; \"2\" = third month ; \"3\" = fourth month ; \"4\" = fifth month ; \"5\" = sixth month\n",
    "side = \"left\" # \"left\" or \"right\"\n",
    "\n",
    "# File paths\n",
    "input_path = f\"../data/data_actimetry/{patient_ID}_M{month_ID}/{side}.cwa\"\n",
    "output_path = f\"../data/data_actimetry/{patient_ID}_M{month_ID}/{side}.cwa.gz\""
   ]
  },
  {
   "cell_type": "code",
   "execution_count": null,
   "metadata": {},
   "outputs": [],
   "source": [
    "# Compression of the .cwa file to .gz\n",
    "with open(input_path, \"rb\") as f_in, gzip.open(output_path, \"wb\") as f_out:\n",
    "    shutil.copyfileobj(f_in, f_out)\n",
    "\n",
    "# Read the data and detect non-wearing periods\n",
    "data, info = actipy.read_device(output_path,\n",
    "                                 lowpass_hz=20,\n",
    "                                 calibrate_gravity=False,\n",
    "                                 detect_nonwear=True,\n",
    "                                 resample_hz=10)\n",
    "\n",
    "info\n",
    "\n",
    "# Collect the time of wear variable\n",
    "wear_time_day = info[\"WearTime(days)\"]\n",
    "\n",
    "# Check if the data is exploitable\n",
    "if wear_time_day < 5:\n",
    "    print(f\"***** Data not exploitable for {patient_ID}, M{month_ID}, {side} side: {wear_time_day} days of wearing *****\")\n",
    "else:\n",
    "    print(f\"Data exploitable for {patient_ID}, M{month_ID}, {side} side: {wear_time_day} days of wearing\")"
   ]
  },
  {
   "cell_type": "markdown",
   "metadata": {},
   "source": [
    "## For all actimetric data files"
   ]
  },
  {
   "cell_type": "code",
   "execution_count": null,
   "metadata": {},
   "outputs": [
    {
     "name": "stdout",
     "output_type": "stream",
     "text": [
      "['C1P20', 'C1P30', 'C1P31', 'C1P32', 'C1P33']\n",
      "***** File not found: ../data/data_actimetry/C1P20_M0/left.cwa *****\n",
      "***** File not found: ../data/data_actimetry/C1P20_M0/right.cwa *****\n",
      "***** File not found: ../data/data_actimetry/C1P20_M1/left.cwa *****\n",
      "***** File not found: ../data/data_actimetry/C1P20_M1/right.cwa *****\n",
      "***** File not found: ../data/data_actimetry/C1P20_M2/left.cwa *****\n",
      "***** File not found: ../data/data_actimetry/C1P20_M2/right.cwa *****\n",
      "***** File not found: ../data/data_actimetry/C1P20_M3/left.cwa *****\n",
      "***** File not found: ../data/data_actimetry/C1P20_M3/right.cwa *****\n",
      "***** File not found: ../data/data_actimetry/C1P20_M4/left.cwa *****\n",
      "***** File not found: ../data/data_actimetry/C1P20_M4/right.cwa *****\n",
      "***** File not found: ../data/data_actimetry/C1P20_M5/left.cwa *****\n",
      "***** File not found: ../data/data_actimetry/C1P20_M5/right.cwa *****\n",
      "***** Patient C1P20 is not exploitable *****\n",
      "***** File not found: ../data/data_actimetry/C1P30_M0/left.cwa *****\n",
      "***** File not found: ../data/data_actimetry/C1P30_M0/right.cwa *****\n",
      "***** File not found: ../data/data_actimetry/C1P30_M1/left.cwa *****\n",
      "***** File not found: ../data/data_actimetry/C1P30_M1/right.cwa *****\n",
      "***** File not found: ../data/data_actimetry/C1P30_M2/left.cwa *****\n",
      "***** File not found: ../data/data_actimetry/C1P30_M2/right.cwa *****\n",
      "***** File not found: ../data/data_actimetry/C1P30_M3/left.cwa *****\n",
      "***** File not found: ../data/data_actimetry/C1P30_M3/right.cwa *****\n",
      "***** File not found: ../data/data_actimetry/C1P30_M4/left.cwa *****\n",
      "***** File not found: ../data/data_actimetry/C1P30_M4/right.cwa *****\n",
      "***** File not found: ../data/data_actimetry/C1P30_M5/left.cwa *****\n",
      "***** File not found: ../data/data_actimetry/C1P30_M5/right.cwa *****\n",
      "***** Patient C1P30 is not exploitable *****\n",
      "***** File not found: ../data/data_actimetry/C1P31_M0/left.cwa *****\n",
      "***** File not found: ../data/data_actimetry/C1P31_M0/right.cwa *****\n",
      "***** File not found: ../data/data_actimetry/C1P31_M1/left.cwa *****\n",
      "***** File not found: ../data/data_actimetry/C1P31_M1/right.cwa *****\n",
      "***** File not found: ../data/data_actimetry/C1P31_M2/left.cwa *****\n",
      "***** File not found: ../data/data_actimetry/C1P31_M2/right.cwa *****\n",
      "***** File not found: ../data/data_actimetry/C1P31_M3/left.cwa *****\n",
      "***** File not found: ../data/data_actimetry/C1P31_M3/right.cwa *****\n",
      "***** File not found: ../data/data_actimetry/C1P31_M4/left.cwa *****\n",
      "***** File not found: ../data/data_actimetry/C1P31_M4/right.cwa *****\n",
      "***** File not found: ../data/data_actimetry/C1P31_M5/left.cwa *****\n",
      "***** File not found: ../data/data_actimetry/C1P31_M5/right.cwa *****\n",
      "***** Patient C1P31 is not exploitable *****\n",
      "***** File not found: ../data/data_actimetry/C1P32_M0/left.cwa *****\n",
      "***** File not found: ../data/data_actimetry/C1P32_M0/right.cwa *****\n",
      "***** File not found: ../data/data_actimetry/C1P32_M1/left.cwa *****\n",
      "***** File not found: ../data/data_actimetry/C1P32_M1/right.cwa *****\n",
      "***** File not found: ../data/data_actimetry/C1P32_M2/left.cwa *****\n",
      "***** File not found: ../data/data_actimetry/C1P32_M2/right.cwa *****\n",
      "***** File not found: ../data/data_actimetry/C1P32_M3/left.cwa *****\n",
      "***** File not found: ../data/data_actimetry/C1P32_M3/right.cwa *****\n",
      "***** File not found: ../data/data_actimetry/C1P32_M4/left.cwa *****\n",
      "***** File not found: ../data/data_actimetry/C1P32_M4/right.cwa *****\n",
      "***** File not found: ../data/data_actimetry/C1P32_M5/left.cwa *****\n",
      "***** File not found: ../data/data_actimetry/C1P32_M5/right.cwa *****\n",
      "***** Patient C1P32 is not exploitable *****\n",
      "***** File not found: ../data/data_actimetry/C1P33_M0/left.cwa *****\n",
      "***** File not found: ../data/data_actimetry/C1P33_M0/right.cwa *****\n",
      "***** File not found: ../data/data_actimetry/C1P33_M1/left.cwa *****\n",
      "***** File not found: ../data/data_actimetry/C1P33_M1/right.cwa *****\n",
      "***** File not found: ../data/data_actimetry/C1P33_M2/left.cwa *****\n",
      "***** File not found: ../data/data_actimetry/C1P33_M2/right.cwa *****\n",
      "***** File not found: ../data/data_actimetry/C1P33_M3/left.cwa *****\n",
      "***** File not found: ../data/data_actimetry/C1P33_M3/right.cwa *****\n",
      "***** File not found: ../data/data_actimetry/C1P33_M4/left.cwa *****\n",
      "***** File not found: ../data/data_actimetry/C1P33_M4/right.cwa *****\n",
      "***** File not found: ../data/data_actimetry/C1P33_M5/left.cwa *****\n",
      "***** File not found: ../data/data_actimetry/C1P33_M5/right.cwa *****\n",
      "***** Patient C1P33 is not exploitable *****\n"
     ]
    }
   ],
   "source": [
    "# List of patient IDs, month IDs and sides\n",
    "participants_info = pd.read_csv('../data/participants_1.csv', sep=';')\n",
    "patient_IDs = participants_info['folder_name'].str.split('_M').str[0].tolist()\n",
    "print(patient_IDs)\n",
    "month_IDs = [\"0\", \"1\", \"2\", \"3\", \"4\", \"5\"]\n",
    "sides = [\"left\", \"right\"]\n",
    "\n",
    "# Process each patient\n",
    "for patient_ID in patient_IDs:\n",
    "    months_inexploitable = 0\n",
    "    \n",
    "    for month_ID in month_IDs:\n",
    "        for side in sides:\n",
    "            input_path = f\"../data/data_actimetry/{patient_ID}_M{month_ID}/{side}.cwa\"\n",
    "            output_path = f\"../data/data_actimetry/{patient_ID}_M{month_ID}/{side}.cwa.gz\"\n",
    "            \n",
    "            try:\n",
    "                # Compression of the .cwa file to .gz\n",
    "                with open(input_path, \"rb\") as f_in, gzip.open(output_path, \"wb\") as f_out:\n",
    "                    shutil.copyfileobj(f_in, f_out)\n",
    "                \n",
    "                # Read the data and detect non-wearing periods\n",
    "                data, info = actipy.read_device(output_path,\n",
    "                                                lowpass_hz=20,\n",
    "                                                calibrate_gravity=False,\n",
    "                                                detect_nonwear=True,\n",
    "                                                resample_hz=10)\n",
    "                \n",
    "                # Collect the time of wear variable\n",
    "                wear_time_day = info[\"WearTime(days)\"]\n",
    "                \n",
    "                # Check if the data is exploitable\n",
    "                if wear_time_day < 5:\n",
    "                    print(f\"***** Data not exploitable for {patient_ID}, M{month_ID}, {side} side: {wear_time_day} days of wearing *****\")\n",
    "                    months_inexploitable += 1\n",
    "#                else:\n",
    "#                    print(f\"Data exploitable for {patient_ID}, M{month_ID}, {side} side: {wear_time_day} days of wearing\")\n",
    "            \n",
    "            except FileNotFoundError:\n",
    "                print(f\"***** File not found: {input_path} *****\")\n",
    "                months_inexploitable += 1\n",
    "            except Exception as e:\n",
    "                print(f\"*****Error processing {input_path}: {e} *****\")\n",
    "    \n",
    "    if months_inexploitable > 2:\n",
    "        print(f\"***** Patient {patient_ID} is not exploitable *****\")\n",
    "    else:\n",
    "        print(f\"Patient {patient_ID} is exploitable\")\n"
   ]
  }
 ],
 "metadata": {
  "kernelspec": {
   "display_name": "base",
   "language": "python",
   "name": "python3"
  },
  "language_info": {
   "codemirror_mode": {
    "name": "ipython",
    "version": 3
   },
   "file_extension": ".py",
   "mimetype": "text/x-python",
   "name": "python",
   "nbconvert_exporter": "python",
   "pygments_lexer": "ipython3",
   "version": "3.12.3"
  }
 },
 "nbformat": 4,
 "nbformat_minor": 2
}
